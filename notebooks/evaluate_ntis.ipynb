{
 "cells": [
  {
   "cell_type": "code",
   "execution_count": 27,
   "id": "8de1f2b9",
   "metadata": {},
   "outputs": [],
   "source": [
    "import os, sys\n",
    "import re\n",
    "import numpy as np\n",
    "import pandas as pd\n",
    "from tqdm import tqdm, trange\n",
    "from glob import glob\n",
    "from konlpy.tag import Mecab\n",
    "from gensim.models.ldamodel import LdaModel\n",
    "from datetime import datetime\n",
    "from scipy.special import rel_entr\n",
    "import warnings\n",
    "\n",
    "\n",
    "sys.path.append('../')\n",
    "warnings.filterwarnings('ignore')\n",
    "mecab = Mecab('C:\\mecab\\mecab-ko-dic')"
   ]
  },
  {
   "cell_type": "markdown",
   "source": [
    "# Load Train Data"
   ],
   "metadata": {
    "collapsed": false
   }
  },
  {
   "cell_type": "code",
   "execution_count": 29,
   "outputs": [],
   "source": [
    "import torch\n",
    "from torch import nn\n",
    "from torch.utils.data import DataLoader, Dataset\n",
    "from torch.optim import Adam\n",
    "from torch.optim.lr_scheduler import LambdaLR\n",
    "from topic_transformer import *\n",
    "from tensorboardX import SummaryWriter"
   ],
   "metadata": {
    "collapsed": false
   }
  },
  {
   "cell_type": "code",
   "execution_count": 30,
   "outputs": [],
   "source": [
    "def normalize_text(text):\n",
    "    doublespace_pattern = re.compile('\\s+')\n",
    "    text = str(text)\n",
    "    text = doublespace_pattern.sub(' ', text)\n",
    "    return text.strip()"
   ],
   "metadata": {
    "collapsed": false
   }
  },
  {
   "cell_type": "code",
   "execution_count": 31,
   "outputs": [],
   "source": [
    "ldamodel_path = r'D:\\notebooks\\kisdi\\lda_100\\ldamodel'\n",
    "ldamodel = LdaModel.load(ldamodel_path)\n",
    "# train_data = [normalize_text(doc) for doc in doc_list]"
   ],
   "metadata": {
    "collapsed": false
   }
  },
  {
   "cell_type": "code",
   "execution_count": 34,
   "outputs": [
    {
     "name": "stderr",
     "output_type": "stream",
     "text": [
      "Some weights of the model checkpoint at xlm-roberta-base were not used when initializing XLMRobertaModel: ['lm_head.dense.weight', 'lm_head.layer_norm.bias', 'lm_head.decoder.weight', 'lm_head.bias', 'lm_head.dense.bias', 'lm_head.layer_norm.weight']\n",
      "- This IS expected if you are initializing XLMRobertaModel from the checkpoint of a model trained on another task or with another architecture (e.g. initializing a BertForSequenceClassification model from a BertForPreTraining model).\n",
      "- This IS NOT expected if you are initializing XLMRobertaModel from the checkpoint of a model that you expect to be exactly identical (initializing a BertForSequenceClassification model from a BertForSequenceClassification model).\n"
     ]
    },
    {
     "data": {
      "text/plain": "<All keys matched successfully>"
     },
     "execution_count": 34,
     "metadata": {},
     "output_type": "execute_result"
    }
   ],
   "source": [
    "model = TopicTransformer_LSTM(output_dim = 100,\n",
    "                             transformer_model_name='xlm-roberta-base')\n",
    "model.load_state_dict(torch.load('TT_LSTM_epoch20.pt'))"
   ],
   "metadata": {
    "collapsed": false
   }
  },
  {
   "cell_type": "markdown",
   "source": [
    "# Evaluate"
   ],
   "metadata": {
    "collapsed": false
   }
  },
  {
   "cell_type": "code",
   "execution_count": 35,
   "outputs": [],
   "source": [
    "class TestDataset(Dataset):\n",
    "    def __init__(self, test_docs, num_topics=100):\n",
    "        self.test_docs = test_docs\n",
    "        self.num_topics = num_topics\n",
    "\n",
    "    def __len__(self):\n",
    "        return len(self.test_docs)\n",
    "\n",
    "    def __getitem__(self, idx):\n",
    "        doc = self.test_docs[idx]\n",
    "\n",
    "        return doc, _"
   ],
   "metadata": {
    "collapsed": false
   }
  },
  {
   "cell_type": "code",
   "execution_count": 36,
   "outputs": [],
   "source": [
    "scopus_path = r'D:\\data\\translated'\n",
    "scopus_data = pd.read_csv(os.path.join(scopus_path,'scopus_translated.csv'))"
   ],
   "metadata": {
    "collapsed": false
   }
  },
  {
   "cell_type": "code",
   "execution_count": 37,
   "outputs": [],
   "source": [
    "test_list_en = []\n",
    "test_list_ko = []\n",
    "for i,a in scopus_data.iterrows():\n",
    "    test_list_en.append(normalize_text(a['abstract']))\n",
    "    test_list_ko.append(normalize_text(a['translated']))"
   ],
   "metadata": {
    "collapsed": false
   }
  },
  {
   "cell_type": "code",
   "execution_count": 38,
   "outputs": [
    {
     "name": "stderr",
     "output_type": "stream",
     "text": [
      "100%|██████████| 63/63 [00:04<00:00, 14.30it/s]\n"
     ]
    }
   ],
   "source": [
    "device = 'cuda:0' if torch.cuda.is_available() else 'cpu'\n",
    "\n",
    "test_batch_size = 16\n",
    "test_dataset = TestDataset(test_list_en, num_topics=20)\n",
    "test_dataloader = DataLoader(test_dataset, batch_size = test_batch_size, shuffle=False)\n",
    "\n",
    "preds_en = []\n",
    "model.eval()\n",
    "model.to(device)\n",
    "for batch in tqdm(test_dataloader):\n",
    "    with torch.no_grad():\n",
    "        features, _ = batch\n",
    "        pred = model(list(features), device=device)\n",
    "        preds_en.extend([i.cpu().tolist() for i in pred])"
   ],
   "metadata": {
    "collapsed": false
   }
  },
  {
   "cell_type": "code",
   "execution_count": 59,
   "outputs": [
    {
     "name": "stderr",
     "output_type": "stream",
     "text": [
      "100%|██████████| 63/63 [00:04<00:00, 14.21it/s]\n"
     ]
    }
   ],
   "source": [
    "device = 'cuda:0' if torch.cuda.is_available() else 'cpu'\n",
    "\n",
    "test_batch_size = 16\n",
    "test_dataset = TestDataset(test_list_ko, num_topics=20)\n",
    "test_dataloader = DataLoader(test_dataset, batch_size = test_batch_size, shuffle=False)\n",
    "\n",
    "preds_ko = []\n",
    "model.eval()\n",
    "model.to(device)\n",
    "for batch in tqdm(test_dataloader):\n",
    "    with torch.no_grad():\n",
    "        features, _ = batch\n",
    "        pred = model(list(features), device=device)\n",
    "        preds_ko.extend([i.cpu().tolist() for i in pred])"
   ],
   "metadata": {
    "collapsed": false
   }
  },
  {
   "cell_type": "code",
   "execution_count": 39,
   "outputs": [
    {
     "name": "stdout",
     "output_type": "stream",
     "text": [
      "2.1628027575266904\n",
      "2.4229701393885525\n",
      "3.9121904706307613\n"
     ]
    }
   ],
   "source": [
    "def symm_kl(p,q):\n",
    "    return 0.5*(sum(rel_entr(p,q)) + sum(rel_entr(q,p)))\n",
    "ko_corpus = [[word for word in mecab.nouns(i) if len(word)>1] for i in test_list_ko]\n",
    "preds_lda = []\n",
    "for i in ko_corpus:\n",
    "    corpus = ldamodel.id2word.doc2bow(i)\n",
    "    preds_lda.append([prob for (idx,prob) in ldamodel.get_document_topics(corpus, minimum_probability=1e-5)])\n",
    "# ko_transformer(en) - ko_transformer(ko) distance\n",
    "score = 0\n",
    "for i in range(1000):\n",
    "    score += symm_kl(preds_en[i], preds_ko[i])\n",
    "score /= 1000\n",
    "print(score)\n",
    "# ko_transformer(en) - ko_lda distance\n",
    "score = 0\n",
    "for i in range(1000):\n",
    "    score += symm_kl(preds_en[i], preds_lda[i])\n",
    "score /= 1000\n",
    "print(score)\n",
    "# ko_transformer(ko) - ko_transformer(ko) distance\n",
    "score = 0\n",
    "for i in range(1000):\n",
    "    score += symm_kl(preds_ko[i], preds_lda[i])\n",
    "score /= 1000\n",
    "print(score)"
   ],
   "metadata": {
    "collapsed": false
   }
  },
  {
   "cell_type": "markdown",
   "source": [
    "# ntis evaluate"
   ],
   "metadata": {
    "collapsed": false
   }
  },
  {
   "cell_type": "code",
   "execution_count": 41,
   "outputs": [],
   "source": [
    "ntis_path = r'D:\\data\\translated'\n",
    "ntis_data = pd.read_csv(os.path.join(ntis_path, 'ntis_translated.csv'), encoding='utf-8')"
   ],
   "metadata": {
    "collapsed": false
   }
  },
  {
   "cell_type": "code",
   "execution_count": 42,
   "outputs": [],
   "source": [
    "test_list_en = []\n",
    "test_list_ko = []\n",
    "for i,a in ntis_data.iterrows():\n",
    "    test_list_en.append(normalize_text(a['요약문_번역']))\n",
    "    test_list_ko.append(normalize_text(a['요약문_연구내용']))"
   ],
   "metadata": {
    "collapsed": false
   }
  },
  {
   "cell_type": "code",
   "execution_count": 43,
   "outputs": [
    {
     "name": "stderr",
     "output_type": "stream",
     "text": [
      "100%|██████████| 63/63 [00:04<00:00, 14.53it/s]\n"
     ]
    }
   ],
   "source": [
    "device = 'cuda:0' if torch.cuda.is_available() else 'cpu'\n",
    "\n",
    "test_batch_size = 16\n",
    "test_dataset = TestDataset(test_list_en, num_topics=20)\n",
    "test_dataloader = DataLoader(test_dataset, batch_size = test_batch_size, shuffle=False)\n",
    "\n",
    "preds_en = []\n",
    "model.eval()\n",
    "model.to(device)\n",
    "for batch in tqdm(test_dataloader):\n",
    "    with torch.no_grad():\n",
    "        features, _ = batch\n",
    "        pred = model(list(features), device=device)\n",
    "        preds_en.extend([i.cpu().tolist() for i in pred])"
   ],
   "metadata": {
    "collapsed": false
   }
  },
  {
   "cell_type": "code",
   "execution_count": 44,
   "outputs": [
    {
     "name": "stderr",
     "output_type": "stream",
     "text": [
      "100%|██████████| 63/63 [00:04<00:00, 15.60it/s]\n"
     ]
    }
   ],
   "source": [
    "device = 'cuda:0' if torch.cuda.is_available() else 'cpu'\n",
    "\n",
    "test_batch_size = 16\n",
    "test_dataset = TestDataset(test_list_ko, num_topics=20)\n",
    "test_dataloader = DataLoader(test_dataset, batch_size = test_batch_size, shuffle=False)\n",
    "\n",
    "preds_ko = []\n",
    "model.eval()\n",
    "model.to(device)\n",
    "for batch in tqdm(test_dataloader):\n",
    "    with torch.no_grad():\n",
    "        features, _ = batch\n",
    "        pred = model(list(features), device=device)\n",
    "        preds_ko.extend([i.cpu().tolist() for i in pred])"
   ],
   "metadata": {
    "collapsed": false
   }
  },
  {
   "cell_type": "code",
   "execution_count": 45,
   "outputs": [],
   "source": [
    "def symm_kl(p,q):\n",
    "    return 0.5*(sum(rel_entr(p,q)) + sum(rel_entr(q,p)))\n",
    "ko_corpus = [[word for word in mecab.nouns(i) if len(word)>1] for i in test_list_ko]\n",
    "preds_lda = []\n",
    "for i in ko_corpus:\n",
    "    corpus = ldamodel.id2word.doc2bow(i)\n",
    "    preds_lda.append([prob for (idx,prob) in ldamodel.get_document_topics(corpus, minimum_probability=1e-5)])"
   ],
   "metadata": {
    "collapsed": false
   }
  },
  {
   "cell_type": "code",
   "execution_count": 46,
   "outputs": [
    {
     "name": "stdout",
     "output_type": "stream",
     "text": [
      "# ko_transformer(en) - ko_transformer(ko) distance score : 0.0788696254676244\n",
      "# ko_transformer(en) - ko_lda distance distance score : 2.4316231820520944\n",
      "# ko_transformer(ko) - ko_lda distance score : 2.4256210543248384\n"
     ]
    }
   ],
   "source": [
    "# ko_transformer(en) - ko_transformer(ko) distance\n",
    "score = 0\n",
    "for i in range(1000):\n",
    "    score += symm_kl(preds_en[i], preds_ko[i])\n",
    "score /= 1000\n",
    "print('# ko_transformer(en) - ko_transformer(ko) distance score : {}'.format(score))\n",
    "# ko_transformer(en) - ko_lda distance\n",
    "score = 0\n",
    "for i in range(1000):\n",
    "    score += symm_kl(preds_en[i], preds_lda[i])\n",
    "score /= 1000\n",
    "print('# ko_transformer(en) - ko_lda distance distance score : {}'.format(score))\n",
    "# ko_transformer(ko) - ko_lda distance\n",
    "score = 0\n",
    "for i in range(1000):\n",
    "    score += symm_kl(preds_ko[i], preds_lda[i])\n",
    "score /= 1000\n",
    "print('# ko_transformer(ko) - ko_lda distance score : {}'.format(score))"
   ],
   "metadata": {
    "collapsed": false
   }
  },
  {
   "cell_type": "markdown",
   "source": [
    "# Show Topic Distribution"
   ],
   "metadata": {
    "collapsed": false
   }
  },
  {
   "cell_type": "code",
   "execution_count": 16,
   "outputs": [],
   "source": [
    "import matplotlib.pyplot as plt\n",
    "import seaborn as sns"
   ],
   "metadata": {
    "collapsed": false
   }
  },
  {
   "cell_type": "code",
   "execution_count": 18,
   "outputs": [],
   "source": [
    "def show_topic_dists(doc_num: int,\n",
    "                     title: str):\n",
    "    plt.figure(figsize=(20,12))\n",
    "    bar_width=0.25\n",
    "    plt.bar(np.arange(100),\n",
    "            preds_en[doc_num],\n",
    "            bar_width,\n",
    "            color='blue',\n",
    "            label='Ko_transformer(en)')\n",
    "    plt.bar(np.arange(100)+bar_width,\n",
    "            preds_ko[doc_num],\n",
    "            bar_width,\n",
    "            color='orange',\n",
    "            label='Ko_transformer(ko)')\n",
    "    plt.bar(np.arange(100)+2*bar_width,\n",
    "            preds_lda[doc_num],\n",
    "            bar_width,\n",
    "            color='gray',\n",
    "            label='Ko_LDA')\n",
    "    plt.legend()\n",
    "    plt.title(title)\n",
    "    plt.show()"
   ],
   "metadata": {
    "collapsed": false
   }
  },
  {
   "cell_type": "code",
   "execution_count": 20,
   "outputs": [
    {
     "data": {
      "text/plain": "<Figure size 1440x864 with 1 Axes>",
      "image/png": "[encoded data removed]"
     },
     "metadata": {},
     "output_type": "display_data"
    }
   ],
   "source": [
    "show_topic_dists(10, \"TopicTransformer_TEHead : NTIS Inference_example1\")"
   ],
   "metadata": {
    "collapsed": false
   }
  },
  {
   "cell_type": "code",
   "execution_count": 21,
   "outputs": [
    {
     "data": {
      "text/plain": "<Figure size 1440x864 with 1 Axes>",
      "image/png": "[encoded data removed]"
     },
     "metadata": {},
     "output_type": "display_data"
    }
   ],
   "source": [
    "show_topic_dists(1, \"TopicTransformer_TEHead : NTIS Inference_example2\")"
   ],
   "metadata": {
    "collapsed": false
   }
  },
  {
   "cell_type": "code",
   "execution_count": 22,
   "outputs": [
    {
     "data": {
      "text/plain": "<Figure size 1440x864 with 1 Axes>",
      "image/png": "[encoded data removed]"
     },
     "metadata": {},
     "output_type": "display_data"
    }
   ],
   "source": [
    "show_topic_dists(0, \"TopicTransformer_TEHead : NTIS Inference_example3\")"
   ],
   "metadata": {
    "collapsed": false
   }
  },
  {
   "cell_type": "code",
   "execution_count": null,
   "outputs": [],
   "source": [],
   "metadata": {
    "collapsed": false
   }
  }
 ],
 "metadata": {
  "kernelspec": {
   "display_name": "Python3.6",
   "language": "python",
   "name": "virtualenv_python36"
  },
  "language_info": {
   "codemirror_mode": {
    "name": "ipython",
    "version": 3
   },
   "file_extension": ".py",
   "mimetype": "text/x-python",
   "name": "python",
   "nbconvert_exporter": "python",
   "pygments_lexer": "ipython3",
   "version": "3.6.13"
  },
  "toc": {
   "base_numbering": 1,
   "nav_menu": {},
   "number_sections": true,
   "sideBar": true,
   "skip_h1_title": false,
   "title_cell": "Table of Contents",
   "title_sidebar": "Contents",
   "toc_cell": false,
   "toc_position": {},
   "toc_section_display": true,
   "toc_window_display": false
  }
 },
 "nbformat": 4,
 "nbformat_minor": 5
}
