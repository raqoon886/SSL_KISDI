{
 "cells": [
  {
   "cell_type": "code",
   "execution_count": 1,
   "id": "8de1f2b9",
   "metadata": {},
   "outputs": [],
   "source": [
    "import os, re\n",
    "import pandas as pd\n",
    "import numpy as np\n",
    "from tqdm import tqdm, trange\n",
    "from glob import glob\n",
    "from natsort import natsorted\n",
    "from konlpy.tag import Mecab\n",
    "\n",
    "mecab = Mecab('C:\\mecab\\mecab-ko-dic')"
   ]
  },
  {
   "cell_type": "code",
   "execution_count": 2,
   "id": "7b52eea4",
   "metadata": {},
   "outputs": [],
   "source": [
    "import sys\n",
    "sys.path.append('../')"
   ]
  },
  {
   "cell_type": "code",
   "execution_count": 3,
   "id": "0983ce74",
   "metadata": {},
   "outputs": [],
   "source": [
    "# 2017년 NTIS 데이터 중 len(x)>256 이상만 학습에 사용\n",
    "\n",
    "path = r'D:\\data\\ICT 트렌드 분석 DATA\\NTIS'\n",
    "\n",
    "files = glob(os.path.join(path, '*.xlsx'))\n",
    "\n",
    "# 오래걸림\n",
    "data = pd.read_excel(files[1], engine='openpyxl')\n",
    "\n",
    "data = data.fillna('')\n",
    "\n",
    "len_cut = 256\n",
    "\n",
    "data = data[data['요약문_연구목표'].apply(lambda x: len(x) > len_cut)]\n",
    "\n",
    "# sampled_data = data.sample(1000)\n",
    "\n",
    "sample_list = data['요약문_연구목표'].to_list()"
   ]
  },
  {
   "cell_type": "code",
   "execution_count": 4,
   "id": "bc71c02a",
   "metadata": {},
   "outputs": [],
   "source": [
    "def normalize_text(text):\n",
    "    doublespace_pattern = re.compile('\\s+')\n",
    "    text = str(text)\n",
    "    text = doublespace_pattern.sub(' ', text)\n",
    "    return text.strip()"
   ]
  },
  {
   "cell_type": "code",
   "execution_count": 5,
   "id": "5b589c48",
   "metadata": {},
   "outputs": [],
   "source": [
    "stopwords = ['개발','기술','분석','연구','시스템','목표','방법','기반','가능','필요','확보','이용','특성','변화','사용','기관','시험','기능','기존','영향','기법','과제','활용','적용']"
   ]
  },
  {
   "cell_type": "code",
   "execution_count": 6,
   "id": "dac52339",
   "metadata": {},
   "outputs": [
    {
     "name": "stderr",
     "output_type": "stream",
     "text": [
      "100%|██████████████████████████████████████████████████████████████████████████| 28961/28961 [00:21<00:00, 1327.71it/s]\n"
     ]
    }
   ],
   "source": [
    "train_data = []\n",
    "for sample in tqdm(sample_list):\n",
    "    a = normalize_text(sample)\n",
    "    noun_list = [noun for noun in mecab.nouns(a) if len(noun)>1 and noun not in stopwords]\n",
    "    train_data.append(noun_list)"
   ]
  },
  {
   "cell_type": "code",
   "execution_count": 7,
   "id": "de849890",
   "metadata": {},
   "outputs": [
    {
     "name": "stderr",
     "output_type": "stream",
     "text": [
      "C:\\Users\\jisoo\\anaconda3\\envs\\virtualenv_python36\\lib\\site-packages\\requests\\__init__.py:104: RequestsDependencyWarning: urllib3 (1.26.9) or chardet (5.0.0)/charset_normalizer (2.0.12) doesn't match a supported version!\n",
      "  RequestsDependencyWarning)\n"
     ]
    }
   ],
   "source": [
    "from gensim import corpora\n",
    "from gensim.models.ldamodel import LdaModel"
   ]
  },
  {
   "cell_type": "code",
   "execution_count": 8,
   "id": "9be37c2f",
   "metadata": {},
   "outputs": [],
   "source": [
    "dictionary = corpora.Dictionary(train_data)\n",
    "corpus = [dictionary.doc2bow(text) for text in train_data]\n",
    "num_topics = 20\n",
    "ldamodel = LdaModel(corpus, num_topics=num_topics, id2word=dictionary)"
   ]
  },
  {
   "cell_type": "code",
   "execution_count": 9,
   "id": "6f674038",
   "metadata": {},
   "outputs": [],
   "source": [
    "topics = ldamodel.print_topics(num_words=10)"
   ]
  },
  {
   "cell_type": "code",
   "execution_count": 10,
   "id": "a7e2d3fd",
   "metadata": {},
   "outputs": [
    {
     "name": "stdout",
     "output_type": "stream",
     "text": [
      "(0, '0.023*\"장치\" + 0.021*\"차량\" + 0.016*\"전기\" + 0.013*\"자동\" + 0.012*\"제어\" + 0.012*\"배터리\" + 0.012*\"자동차\" + 0.011*\"발생\" + 0.011*\"모터\" + 0.010*\"개선\"')\n",
      "(1, '0.039*\"공정\" + 0.025*\"소재\" + 0.022*\"제조\" + 0.013*\"코팅\" + 0.013*\"제품\" + 0.012*\"평가\" + 0.011*\"표면\" + 0.011*\"이상\" + 0.010*\"제작\" + 0.009*\"최적화\"')\n",
      "(2, '0.027*\"생산\" + 0.024*\"소재\" + 0.017*\"식품\" + 0.017*\"물질\" + 0.013*\"반응\" + 0.011*\"생물\" + 0.011*\"화학\" + 0.011*\"품종\" + 0.010*\"활성\" + 0.010*\"촉매\"')\n",
      "(3, '0.040*\"전지\" + 0.031*\"태양\" + 0.023*\"특허\" + 0.021*\"방송\" + 0.016*\"제작\" + 0.015*\"효율\" + 0.014*\"기기\" + 0.013*\"에너지\" + 0.013*\"게임\" + 0.012*\"웨어\"')\n",
      "(4, '0.030*\"서비스\" + 0.029*\"정보\" + 0.015*\"영상\" + 0.015*\"데이터\" + 0.012*\"제공\" + 0.011*\"플랫\" + 0.009*\"통신\" + 0.009*\"콘텐츠\" + 0.009*\"관리\" + 0.008*\"환경\"')\n",
      "(5, '0.034*\"공간\" + 0.030*\"이론\" + 0.019*\"문제\" + 0.011*\"함수\" + 0.010*\"차원\" + 0.010*\"무인\" + 0.010*\"수학\" + 0.008*\"일반\" + 0.008*\"결과\" + 0.007*\"항공기\"')\n",
      "(6, '0.044*\"해양\" + 0.017*\"처리\" + 0.016*\"비용\" + 0.013*\"오염\" + 0.013*\"시설\" + 0.012*\"배출\" + 0.012*\"회수\" + 0.012*\"공급\" + 0.011*\"생산\" + 0.011*\"운전\"')\n",
      "(7, '0.049*\"데이터\" + 0.026*\"에너지\" + 0.017*\"관리\" + 0.012*\"환경\" + 0.012*\"철도\" + 0.011*\"전력\" + 0.009*\"저장\" + 0.009*\"효율\" + 0.008*\"정치\" + 0.007*\"예측\"')\n",
      "(8, '0.017*\"사회\" + 0.013*\"산업\" + 0.011*\"사업\" + 0.010*\"지역\" + 0.009*\"관련\" + 0.009*\"교육\" + 0.009*\"분야\" + 0.009*\"국가\" + 0.009*\"체계\" + 0.008*\"국제\"')\n",
      "(9, '0.045*\"설계\" + 0.032*\"평가\" + 0.023*\"참여\" + 0.021*\"성능\" + 0.020*\"제작\" + 0.018*\"구축\" + 0.016*\"검증\" + 0.015*\"모듈\" + 0.014*\"표준\" + 0.011*\"안전\"')\n",
      "(10, '0.015*\"역사\" + 0.013*\"한국\" + 0.010*\"교육\" + 0.010*\"과정\" + 0.010*\"세기\" + 0.009*\"철학\" + 0.008*\"조선\" + 0.008*\"인재\" + 0.008*\"양성\" + 0.007*\"번역\"')\n",
      "(11, '0.043*\"센서\" + 0.025*\"측정\" + 0.017*\"영상\" + 0.015*\"신호\" + 0.015*\"알고리즘\" + 0.014*\"학습\" + 0.014*\"인식\" + 0.013*\"검출\" + 0.010*\"실시간\" + 0.009*\"진단\"')\n",
      "(12, '0.019*\"구조\" + 0.018*\"이상\" + 0.016*\"복합\" + 0.015*\"성능\" + 0.015*\"재료\" + 0.011*\"소재\" + 0.011*\"이하\" + 0.009*\"화재\" + 0.009*\"온도\" + 0.009*\"콘크리트\"')\n",
      "(13, '0.032*\"세포\" + 0.030*\"치료\" + 0.020*\"질환\" + 0.017*\"조절\" + 0.016*\"규명\" + 0.016*\"유전자\" + 0.015*\"환자\" + 0.014*\"단백질\" + 0.013*\"임상\" + 0.011*\"기전\"')\n",
      "(14, '0.025*\"문학\" + 0.016*\"장애\" + 0.015*\"프로그램\" + 0.013*\"건강\" + 0.012*\"훈련\" + 0.012*\"여성\" + 0.011*\"인지\" + 0.011*\"행동\" + 0.010*\"노인\" + 0.009*\"아동\"')\n",
      "(15, '0.050*\"평가\" + 0.019*\"차년\" + 0.016*\"피부\" + 0.016*\"약물\" + 0.016*\"임상\" + 0.016*\"수산\" + 0.014*\"필터\" + 0.012*\"내성\" + 0.011*\"지표\" + 0.011*\"임상시험\"')\n",
      "(16, '0.029*\"자료\" + 0.024*\"모형\" + 0.023*\"도시\" + 0.019*\"예측\" + 0.017*\"발생\" + 0.010*\"결과\" + 0.010*\"모델\" + 0.010*\"제시\" + 0.009*\"저항성\" + 0.009*\"비교\"')\n",
      "(17, '0.025*\"이해\" + 0.021*\"현상\" + 0.015*\"양식\" + 0.014*\"관계\" + 0.012*\"설명\" + 0.012*\"종자\" + 0.011*\"때문\" + 0.011*\"정치\" + 0.010*\"존재\" + 0.010*\"수소\"')\n",
      "(18, '0.047*\"나노\" + 0.030*\"구조\" + 0.021*\"소자\" + 0.021*\"입자\" + 0.018*\"물질\" + 0.012*\"구현\" + 0.012*\"양자\" + 0.012*\"차원\" + 0.011*\"제어\" + 0.011*\"효율\"')\n",
      "(19, '0.031*\"제품\" + 0.030*\"시장\" + 0.021*\"문화\" + 0.017*\"기업\" + 0.013*\"상품\" + 0.011*\"소비자\" + 0.011*\"중국\" + 0.010*\"고객\" + 0.009*\"한국\" + 0.009*\"수출\"')\n"
     ]
    }
   ],
   "source": [
    "for topic in topics:\n",
    "    print(topic)"
   ]
  },
  {
   "cell_type": "code",
   "execution_count": 11,
   "id": "1c342d88",
   "metadata": {},
   "outputs": [],
   "source": [
    "train_docs = [' '.join(i) for i in train_data]"
   ]
  },
  {
   "cell_type": "code",
   "execution_count": 12,
   "id": "8c390d2e",
   "metadata": {},
   "outputs": [],
   "source": [
    "sample_list = [normalize_text(doc) for doc in sample_list]"
   ]
  },
  {
   "cell_type": "markdown",
   "id": "c2a40942",
   "metadata": {},
   "source": [
    "# transformer"
   ]
  },
  {
   "cell_type": "code",
   "execution_count": 13,
   "id": "88c3fb0c",
   "metadata": {},
   "outputs": [],
   "source": [
    "import torch\n",
    "from torch import nn\n",
    "from torch.utils.data import DataLoader, Dataset\n",
    "from torch.optim import Adam\n",
    "from torch.optim.lr_scheduler import LambdaLR\n",
    "from topic_transformer import TopicTransformer, datasets\n",
    "\n",
    "import warnings\n",
    "warnings.filterwarnings('ignore')"
   ]
  },
  {
   "cell_type": "code",
   "execution_count": null,
   "id": "75036448",
   "metadata": {},
   "outputs": [],
   "source": [
    "epochs = 1\n",
    "batch_size = 16\n",
    "device = 'cuda:0' if torch.cuda.is_available() else 'cpu'\n",
    "\n",
    "# dataloader\n",
    "dataset = datasets.SentenceLabelDataset(sample_list, corpus, ldamodel)\n",
    "dataloader = DataLoader(dataset, batch_size = batch_size, shuffle=True)\n",
    "\n",
    "# topictransformer\n",
    "model = TopicTransformer(output_dim = 20,\n",
    "                         transformer_model_name = 'xlm-roberta-base')\n",
    "\n",
    "# optimizer, scheduler\n",
    "optimizer = Adam(model.parameters(), lr=1e-4)\n",
    "scheduler = LambdaLR(optimizer, lr_lambda=lambda epoch:0.95**epoch)\n",
    "\n",
    "model.to(device)\n",
    "model.train()\n",
    "\n",
    "# train\n",
    "global_step = 0\n",
    "total_loss = 0\n",
    "for epoch in trange(epochs, desc=\"Epoch\"):\n",
    "    training_steps = 0\n",
    "    for batch in dataloader:\n",
    "        optimizer.zero_grad()\n",
    "        features, labels = batch\n",
    "        labels = labels.to(device)\n",
    "\n",
    "        loss_value = model.loss(model(list(features)), labels)\n",
    "        loss_value.backward()\n",
    "        torch.nn.utils.clip_grad_norm_(model.parameters(), 5)\n",
    "        optimizer.step()\n",
    "        \n",
    "        total_loss += loss_value.item()\n",
    "    total_loss /= len(dataloader)\n",
    "    print('Epoch {} total loss : {:.5f}'.format(epoch, total_loss))\n",
    "    scheduler.step()\n",
    "\n",
    "    training_steps += 1\n",
    "    global_step += 1\n",
    "\n",
    "    print('================================')"
   ]
  },
  {
   "cell_type": "markdown",
   "id": "2e9a8c16",
   "metadata": {},
   "source": [
    "# evaluation"
   ]
  },
  {
   "cell_type": "code",
   "execution_count": 23,
   "id": "e95a7384",
   "metadata": {},
   "outputs": [],
   "source": [
    "class TestDataset(Dataset):\n",
    "    def __init__(self, test_docs, num_topics=15):\n",
    "        self.test_docs = test_docs\n",
    "        self.num_topics = num_topics\n",
    "\n",
    "    def __len__(self):\n",
    "        return len(self.test_docs)\n",
    "\n",
    "    def __getitem__(self, idx):\n",
    "        doc = self.test_docs[idx]\n",
    "\n",
    "        return doc, _"
   ]
  },
  {
   "cell_type": "code",
   "execution_count": 24,
   "id": "346ab78f",
   "metadata": {},
   "outputs": [],
   "source": [
    "scopus_path = r'D:\\downloads\\ICT 트렌드 분석 DATA_2\\SCOPUS'\n",
    "scopus_data = pd.read_csv(os.path.join(scopus_path, 'SCOPUS ABSTRACT(2017).csv'), encoding='ISO-8859-1')"
   ]
  },
  {
   "cell_type": "code",
   "execution_count": 25,
   "id": "be8725e0",
   "metadata": {},
   "outputs": [],
   "source": [
    "test_list = []\n",
    "for i,a in scopus_data.iterrows():\n",
    "    test_list.append(normalize_text(a['abstract']))"
   ]
  },
  {
   "cell_type": "code",
   "execution_count": null,
   "id": "b4c0ebb1",
   "metadata": {},
   "outputs": [],
   "source": [
    "model.to(device)\n",
    "model.eval()\n",
    "with torch.no_grad():\n",
    "    pred = model(list(test_list[20]), device=device)"
   ]
  },
  {
   "cell_type": "code",
   "execution_count": null,
   "id": "f89727b1",
   "metadata": {},
   "outputs": [],
   "source": [
    "test_batch_size = 1\n",
    "test_dataset = TestDataset(test_list, num_topics=20)\n",
    "test_dataloader = DataLoader(test_dataset, batch_size = test_batch_size, shuffle=False)\n",
    "\n",
    "preds = []\n",
    "model.eval()\n",
    "model.to(device)\n",
    "for batch in tqdm(test_dataloader):\n",
    "    with torch.no_grad():\n",
    "        features, _ = batch\n",
    "        pred = model(list(features))\n",
    "        preds.append(pred)"
   ]
  },
  {
   "cell_type": "code",
   "execution_count": null,
   "id": "36d5ed3b",
   "metadata": {},
   "outputs": [],
   "source": []
  }
 ],
 "metadata": {
  "kernelspec": {
   "display_name": "Python3.6",
   "language": "python",
   "name": "virtualenv_python36"
  },
  "language_info": {
   "codemirror_mode": {
    "name": "ipython",
    "version": 3
   },
   "file_extension": ".py",
   "mimetype": "text/x-python",
   "name": "python",
   "nbconvert_exporter": "python",
   "pygments_lexer": "ipython3",
   "version": "3.6.13"
  },
  "toc": {
   "base_numbering": 1,
   "nav_menu": {},
   "number_sections": true,
   "sideBar": true,
   "skip_h1_title": false,
   "title_cell": "Table of Contents",
   "title_sidebar": "Contents",
   "toc_cell": false,
   "toc_position": {},
   "toc_section_display": true,
   "toc_window_display": false
  }
 },
 "nbformat": 4,
 "nbformat_minor": 5
}
