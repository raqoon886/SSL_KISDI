{
 "cells": [
  {
   "cell_type": "code",
   "execution_count": 2,
   "id": "8de1f2b9",
   "metadata": {},
   "outputs": [],
   "source": [
    "import os, re\n",
    "import pandas as pd\n",
    "import numpy as np\n",
    "from tqdm import tqdm, trange\n",
    "from glob import glob\n",
    "from natsort import natsorted\n",
    "from konlpy.tag import Mecab\n",
    "\n",
    "mecab = Mecab('C:\\mecab\\mecab-ko-dic')"
   ]
  },
  {
   "cell_type": "code",
   "execution_count": 3,
   "id": "1f642ca5",
   "metadata": {},
   "outputs": [],
   "source": [
    "import sys\n",
    "sys.path.append('../')"
   ]
  },
  {
   "cell_type": "code",
   "execution_count": 4,
   "id": "0983ce74",
   "metadata": {},
   "outputs": [],
   "source": [
    "# 2017년 NTIS 데이터 중 len(x)>256 이상만 학습에 사용\n",
    "\n",
    "path = r'D:\\data\\ICT 트렌드 분석 DATA\\NTIS'\n",
    "\n",
    "files = glob(os.path.join(path, '*.xlsx'))\n",
    "\n",
    "# 오래걸림\n",
    "data = pd.read_excel(files[1], engine='openpyxl')\n",
    "\n",
    "data = data.fillna('')\n",
    "\n",
    "len_cut = 256\n",
    "\n",
    "data = data[data['요약문_연구목표'].apply(lambda x: len(x) > len_cut)]\n",
    "\n",
    "# sampled_data = data.sample(1000)\n",
    "\n",
    "sample_list = data['요약문_연구목표'].to_list()"
   ]
  },
  {
   "cell_type": "code",
   "execution_count": 5,
   "id": "bc71c02a",
   "metadata": {},
   "outputs": [],
   "source": [
    "def normalize_text(text):\n",
    "    doublespace_pattern = re.compile('\\s+')\n",
    "    text = str(text)\n",
    "    text = doublespace_pattern.sub(' ', text)\n",
    "    return text.strip()"
   ]
  },
  {
   "cell_type": "code",
   "execution_count": 6,
   "id": "5b589c48",
   "metadata": {},
   "outputs": [],
   "source": [
    "stopwords = ['개발','기술','분석','연구','시스템','목표','방법','기반','가능','필요','확보','이용','특성','변화','사용','기관','시험','기능','기존','영향','기법','과제','활용','적용']"
   ]
  },
  {
   "cell_type": "code",
   "execution_count": 7,
   "id": "dac52339",
   "metadata": {},
   "outputs": [
    {
     "name": "stderr",
     "output_type": "stream",
     "text": [
      "100%|██████████████████████████████████████████████████████████████████████████| 28961/28961 [00:21<00:00, 1344.04it/s]\n"
     ]
    }
   ],
   "source": [
    "train_data = []\n",
    "for sample in tqdm(sample_list):\n",
    "    a = normalize_text(sample)\n",
    "    noun_list = [noun for noun in mecab.nouns(a) if len(noun)>1 and noun not in stopwords]\n",
    "    train_data.append(noun_list)"
   ]
  },
  {
   "cell_type": "code",
   "execution_count": 8,
   "id": "de849890",
   "metadata": {},
   "outputs": [
    {
     "name": "stderr",
     "output_type": "stream",
     "text": [
      "C:\\Users\\jisoo\\anaconda3\\envs\\virtualenv_python36\\lib\\site-packages\\requests\\__init__.py:104: RequestsDependencyWarning: urllib3 (1.26.9) or chardet (5.0.0)/charset_normalizer (2.0.12) doesn't match a supported version!\n",
      "  RequestsDependencyWarning)\n"
     ]
    }
   ],
   "source": [
    "from gensim import corpora\n",
    "from gensim.models.ldamodel import LdaModel"
   ]
  },
  {
   "cell_type": "code",
   "execution_count": 9,
   "id": "9be37c2f",
   "metadata": {},
   "outputs": [],
   "source": [
    "dictionary = corpora.Dictionary(train_data)\n",
    "corpus = [dictionary.doc2bow(text) for text in train_data]\n",
    "num_topics = 20\n",
    "ldamodel = LdaModel(corpus, num_topics=num_topics, id2word=dictionary)"
   ]
  },
  {
   "cell_type": "code",
   "execution_count": 10,
   "id": "6f674038",
   "metadata": {},
   "outputs": [],
   "source": [
    "topics = ldamodel.print_topics(num_words=10)"
   ]
  },
  {
   "cell_type": "code",
   "execution_count": 11,
   "id": "a7e2d3fd",
   "metadata": {},
   "outputs": [
    {
     "name": "stdout",
     "output_type": "stream",
     "text": [
      "(0, '0.031*\"나노\" + 0.027*\"소재\" + 0.023*\"공정\" + 0.015*\"구조\" + 0.014*\"제조\" + 0.012*\"합성\" + 0.012*\"효율\" + 0.011*\"화학\" + 0.011*\"표면\" + 0.011*\"입자\"')\n",
      "(1, '0.043*\"생산\" + 0.027*\"식품\" + 0.022*\"소재\" + 0.018*\"생물\" + 0.015*\"산업\" + 0.013*\"바이오\" + 0.012*\"품종\" + 0.012*\"자원\" + 0.010*\"국내\" + 0.010*\"활성\"')\n",
      "(2, '0.027*\"서비스\" + 0.025*\"데이터\" + 0.019*\"정보\" + 0.019*\"관리\" + 0.016*\"지원\" + 0.016*\"구축\" + 0.011*\"제공\" + 0.010*\"플랫\" + 0.010*\"운영\" + 0.009*\"기업\"')\n",
      "(3, '0.025*\"안전\" + 0.022*\"해양\" + 0.022*\"환경\" + 0.015*\"평가\" + 0.013*\"발생\" + 0.013*\"관리\" + 0.010*\"수산\" + 0.010*\"위험\" + 0.009*\"재난\" + 0.009*\"조사\"')\n",
      "(4, '0.032*\"센서\" + 0.019*\"모델\" + 0.019*\"해석\" + 0.013*\"근대\" + 0.013*\"측정\" + 0.010*\"검증\" + 0.009*\"실험\" + 0.009*\"예측\" + 0.009*\"데이터\" + 0.009*\"결과\"')\n",
      "(5, '0.024*\"설계\" + 0.022*\"구현\" + 0.020*\"제어\" + 0.019*\"제작\" + 0.019*\"모듈\" + 0.017*\"센서\" + 0.017*\"전력\" + 0.015*\"소자\" + 0.015*\"측정\" + 0.014*\"전기\"')\n",
      "(6, '0.023*\"참여\" + 0.023*\"평가\" + 0.016*\"성능\" + 0.016*\"이상\" + 0.015*\"설계\" + 0.013*\"에너지\" + 0.013*\"제작\" + 0.012*\"모듈\" + 0.011*\"공정\" + 0.011*\"개선\"')\n",
      "(7, '0.054*\"설계\" + 0.047*\"평가\" + 0.026*\"성능\" + 0.018*\"제작\" + 0.014*\"장치\" + 0.012*\"검증\" + 0.011*\"구축\" + 0.010*\"기준\" + 0.010*\"해석\" + 0.010*\"구조\"')\n",
      "(8, '0.024*\"유전자\" + 0.020*\"규명\" + 0.016*\"조절\" + 0.016*\"치료\" + 0.015*\"관련\" + 0.014*\"기전\" + 0.012*\"신경\" + 0.012*\"유전체\" + 0.011*\"세포\" + 0.010*\"대사\"')\n",
      "(9, '0.035*\"세포\" + 0.023*\"치료\" + 0.023*\"질환\" + 0.016*\"약물\" + 0.013*\"효과\" + 0.013*\"모델\" + 0.011*\"면역\" + 0.011*\"동물\" + 0.010*\"평가\" + 0.009*\"검증\"')\n",
      "(10, '0.021*\"사회\" + 0.012*\"문화\" + 0.011*\"한국\" + 0.010*\"문제\" + 0.009*\"분야\" + 0.009*\"국가\" + 0.009*\"지역\" + 0.009*\"정책\" + 0.008*\"우리\" + 0.008*\"관련\"')\n",
      "(11, '0.043*\"제품\" + 0.018*\"공정\" + 0.016*\"부품\" + 0.015*\"제조\" + 0.015*\"가공\" + 0.013*\"장비\" + 0.012*\"소재\" + 0.011*\"생산\" + 0.009*\"산업\" + 0.009*\"제작\"')\n",
      "(12, '0.024*\"차량\" + 0.016*\"문학\" + 0.012*\"방식\" + 0.011*\"공간\" + 0.011*\"주행\" + 0.011*\"작품\" + 0.010*\"인식\" + 0.009*\"디지털\" + 0.009*\"예술\" + 0.008*\"디자인\"')\n",
      "(13, '0.021*\"시장\" + 0.019*\"사업\" + 0.016*\"특허\" + 0.014*\"양자\" + 0.012*\"수출\" + 0.012*\"이상\" + 0.012*\"추진\" + 0.011*\"국내\" + 0.009*\"해외\" + 0.008*\"계통\"')\n",
      "(14, '0.017*\"철학\" + 0.016*\"조선\" + 0.011*\"논의\" + 0.011*\"사실\" + 0.009*\"시간\" + 0.008*\"매체\" + 0.007*\"오늘날\" + 0.007*\"수용\" + 0.007*\"동아시아\" + 0.006*\"윤리\"')\n",
      "(15, '0.044*\"환자\" + 0.041*\"임상\" + 0.038*\"의료\" + 0.035*\"진단\" + 0.035*\"영상\" + 0.029*\"치료\" + 0.027*\"검사\" + 0.022*\"수술\" + 0.018*\"운동\" + 0.014*\"병원\"')\n",
      "(16, '0.031*\"단백질\" + 0.030*\"물질\" + 0.023*\"규명\" + 0.023*\"작용\" + 0.022*\"조절\" + 0.022*\"반응\" + 0.020*\"구조\" + 0.020*\"분자\" + 0.017*\"상호\" + 0.013*\"활성\"')\n",
      "(17, '0.027*\"영상\" + 0.023*\"학습\" + 0.020*\"알고리즘\" + 0.019*\"정보\" + 0.015*\"인식\" + 0.012*\"카메라\" + 0.012*\"데이터\" + 0.011*\"언어\" + 0.010*\"처리\" + 0.009*\"이미지\"')\n",
      "(18, '0.024*\"종교\" + 0.018*\"투여\" + 0.016*\"채널\" + 0.015*\"서양\" + 0.014*\"기독교\" + 0.014*\"행복\" + 0.013*\"조절기\" + 0.012*\"여행\" + 0.011*\"케어\" + 0.011*\"물류\"')\n",
      "(19, '0.088*\"교육\" + 0.047*\"양성\" + 0.029*\"프로그램\" + 0.026*\"인력\" + 0.018*\"전문\" + 0.015*\"역량\" + 0.015*\"인재\" + 0.014*\"능력\" + 0.013*\"대학\" + 0.012*\"학생\"')\n"
     ]
    }
   ],
   "source": [
    "for topic in topics:\n",
    "    print(topic)"
   ]
  },
  {
   "cell_type": "code",
   "execution_count": 12,
   "id": "1c342d88",
   "metadata": {},
   "outputs": [],
   "source": [
    "train_docs = [' '.join(i) for i in train_data]"
   ]
  },
  {
   "cell_type": "code",
   "execution_count": 13,
   "id": "8c390d2e",
   "metadata": {},
   "outputs": [],
   "source": [
    "sample_list = [normalize_text(doc) for doc in sample_list]"
   ]
  },
  {
   "cell_type": "markdown",
   "id": "c2a40942",
   "metadata": {},
   "source": [
    "# transformer"
   ]
  },
  {
   "cell_type": "code",
   "execution_count": 14,
   "id": "88c3fb0c",
   "metadata": {},
   "outputs": [],
   "source": [
    "import torch\n",
    "from torch import nn\n",
    "from torch.utils.data import DataLoader, Dataset\n",
    "from torch.optim import Adam\n",
    "from torch.optim.lr_scheduler import LambdaLR\n",
    "from topic_transformer import TopicTransformer, datasets\n",
    "\n",
    "import warnings\n",
    "warnings.filterwarnings('ignore')"
   ]
  },
  {
   "cell_type": "code",
   "execution_count": null,
   "id": "723a8fa5",
   "metadata": {},
   "outputs": [],
   "source": [
    "epochs = 1\n",
    "batch_size = 16\n",
    "device = 'cuda:0' if torch.cuda.is_available() else 'cpu'\n",
    "\n",
    "# dataloader\n",
    "dataset = datasets.SentenceLabelDataset(sample_list, corpus, ldamodel)\n",
    "dataloader = DataLoader(dataset, batch_size = batch_size, shuffle=True)\n",
    "\n",
    "# topictransformer\n",
    "model = TopicTransformer(output_dim = 20,\n",
    "                         transformer_model_name = 'xlm-roberta-base')\n",
    "\n",
    "# optimizer, scheduler\n",
    "optimizer = Adam(model.parameters(), lr=1e-4)\n",
    "scheduler = LambdaLR(optimizer, lr_lambda=lambda epoch:0.95**epoch)\n",
    "\n",
    "model.to(device)\n",
    "model.train()\n",
    "\n",
    "# train\n",
    "global_step = 0\n",
    "total_loss = 0\n",
    "for epoch in trange(epochs, desc=\"Epoch\"):\n",
    "    training_steps = 0\n",
    "    for batch in dataloader:\n",
    "        optimizer.zero_grad()\n",
    "        features, labels = batch\n",
    "        labels = labels.to(device)\n",
    "\n",
    "        loss_value = model.loss(model(list(features)), labels)\n",
    "        loss_value.backward()\n",
    "        torch.nn.utils.clip_grad_norm_(model.parameters(), 5)\n",
    "        optimizer.step()\n",
    "        \n",
    "        total_loss += loss_value.item()\n",
    "    total_loss /= len(dataloader)\n",
    "    print('Epoch {} total loss : {:.5f}'.format(epoch, total_loss))\n",
    "    scheduler.step()\n",
    "\n",
    "    training_steps += 1\n",
    "    global_step += 1\n",
    "\n",
    "    print('================================')"
   ]
  },
  {
   "cell_type": "markdown",
   "id": "2e9a8c16",
   "metadata": {},
   "source": [
    "# evaluation"
   ]
  },
  {
   "cell_type": "code",
   "execution_count": 23,
   "id": "e95a7384",
   "metadata": {},
   "outputs": [],
   "source": [
    "class TestDataset(Dataset):\n",
    "    def __init__(self, test_docs, num_topics=15):\n",
    "        self.test_docs = test_docs\n",
    "        self.num_topics = num_topics\n",
    "\n",
    "    def __len__(self):\n",
    "        return len(self.test_docs)\n",
    "\n",
    "    def __getitem__(self, idx):\n",
    "        doc = self.test_docs[idx]\n",
    "\n",
    "        return doc, _"
   ]
  },
  {
   "cell_type": "code",
   "execution_count": 24,
   "id": "346ab78f",
   "metadata": {},
   "outputs": [],
   "source": [
    "scopus_path = r'D:\\downloads\\ICT 트렌드 분석 DATA_2\\SCOPUS'\n",
    "scopus_data = pd.read_csv(os.path.join(scopus_path, 'SCOPUS ABSTRACT(2017).csv'), encoding='ISO-8859-1')"
   ]
  },
  {
   "cell_type": "code",
   "execution_count": 25,
   "id": "be8725e0",
   "metadata": {},
   "outputs": [],
   "source": [
    "test_list = []\n",
    "for i,a in scopus_data.iterrows():\n",
    "    test_list.append(normalize_text(a['abstract']))"
   ]
  },
  {
   "cell_type": "code",
   "execution_count": null,
   "id": "27824fac",
   "metadata": {},
   "outputs": [],
   "source": [
    "model.to(device)\n",
    "model.eval()\n",
    "with torch.no_grad():\n",
    "    pred = model(list(test_list[20]), device=device)"
   ]
  },
  {
   "cell_type": "code",
   "execution_count": null,
   "id": "faffa288",
   "metadata": {},
   "outputs": [],
   "source": [
    "test_batch_size = 1\n",
    "test_dataset = TestDataset(test_list, num_topics=20)\n",
    "test_dataloader = DataLoader(test_dataset, batch_size = test_batch_size, shuffle=False)\n",
    "\n",
    "preds = []\n",
    "model.eval()\n",
    "model.to(device)\n",
    "for batch in tqdm(test_dataloader):\n",
    "    with torch.no_grad():\n",
    "        features, _ = batch\n",
    "        pred = model(list(features))\n",
    "        preds.append(pred)"
   ]
  },
  {
   "cell_type": "markdown",
   "id": "76473896",
   "metadata": {},
   "source": [
    "# model save"
   ]
  },
  {
   "cell_type": "code",
   "execution_count": null,
   "id": "36d5ed3b",
   "metadata": {},
   "outputs": [],
   "source": [
    "torch.save(model.state_dict(), 'topictransformer.pt')\n",
    "\n",
    "model.load_state_dict(torch.load('topictransformer.pt'))"
   ]
  }
 ],
 "metadata": {
  "kernelspec": {
   "display_name": "Python3.6",
   "language": "python",
   "name": "virtualenv_python36"
  },
  "language_info": {
   "codemirror_mode": {
    "name": "ipython",
    "version": 3
   },
   "file_extension": ".py",
   "mimetype": "text/x-python",
   "name": "python",
   "nbconvert_exporter": "python",
   "pygments_lexer": "ipython3",
   "version": "3.6.13"
  },
  "toc": {
   "base_numbering": 1,
   "nav_menu": {},
   "number_sections": true,
   "sideBar": true,
   "skip_h1_title": false,
   "title_cell": "Table of Contents",
   "title_sidebar": "Contents",
   "toc_cell": false,
   "toc_position": {},
   "toc_section_display": true,
   "toc_window_display": false
  }
 },
 "nbformat": 4,
 "nbformat_minor": 5
}
